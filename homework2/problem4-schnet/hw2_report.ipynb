{
 "cells": [
  {
   "cell_type": "code",
   "execution_count": null,
   "id": "initial_id",
   "metadata": {
    "collapsed": true
   },
   "outputs": [],
   "source": [
    "# Verify that the model's energy and forces predictions\n",
    "# are invariant and equivariant to rotation respectively. \n",
    "\n",
    "import torch\n",
    "from schnet import SchNet\n",
    "from lmdb_dataset import LmdbDataset, data_list_collater\n",
    "from torch.utils.data import DataLoader\n",
    "from utils import L2MAELoss, rotate_3d_coordinates\n",
    "from tqdm import tqdm\n",
    "\n",
    "import numpy as np\n",
    "import matplotlib.pyplot as plt\n",
    "\n",
    "data_dir, size = 'aspirin', '1k'\n",
    "device, batch_size = 'cpu', 128\n",
    "r_max = 5.0\n",
    "\n",
    "train_dir = f\"{data_dir}/{size}/train\"\n",
    "train_dataset = LmdbDataset({'src': train_dir})\n",
    "train_dataloader = DataLoader(train_dataset, collate_fn=data_list_collater, \\\n",
    "                              batch_size=batch_size, shuffle=False)\n",
    "# model\n",
    "model = SchNet(cutoff=r_max)\n",
    "model.load_state_dict(torch.load('schnet_model.pt'))\n",
    "\n",
    "model = model.to(device)\n",
    "model.eval()\n",
    "\n",
    "force_loss = L2MAELoss()\n",
    "energy_loss = torch.nn.MSELoss()    "
   ]
  },
  {
   "cell_type": "code",
   "outputs": [],
   "source": [
    "losses={'energy':[], 'force':[], 'energy_rot':[], 'force_rot':[]} \n",
    "\n",
    "model.eval()\n",
    "for batch in tqdm(train_dataloader):\n",
    "    \n",
    "    original_pos = batch.pos\n",
    "    \n",
    "    # Forward with original position\n",
    "    original_pos.requires_grad = True\n",
    "    out_energy, out_forces = model.forward(batch.atomic_numbers,\n",
    "                                           original_pos, \n",
    "                                           batch=batch.batch)\n",
    "    \n",
    "    # Rotate positions and forces\n",
    "    degree_rot = np.random.rand(3,1)*360\n",
    "    rotated_pos = rotate_3d_coordinates(original_pos,  *degree_rot)\n",
    "    rotated_forces = rotate_3d_coordinates(batch.force, *degree_rot)\n",
    "    \n",
    "    # Forward with rotated positions\n",
    "    rotated_pos.requires_grad = True\n",
    "    out_energy_rot, out_forces_rot = model.forward(batch.atomic_numbers,\n",
    "                                                   rotated_pos, \n",
    "                                                   batch=batch.batch)\n",
    "\n",
    "\n",
    "    # [CHECK EQUIVARIANCE] Rotated forces loss should be equal to loss of non rotated.\n",
    "    loss_f = force_loss(out_forces_rot, rotated_forces).detach().item()\n",
    "    loss_f_rot = force_loss(out_forces, batch.force).detach().item()\n",
    "    assert np.abs(loss_f - loss_f_rot) < 1e-6, print('loss_f_rot: ', loss_f_rot, '\\n\\n', 'loss_f: ', loss_f )\n",
    "    \n",
    "    loss_e = energy_loss(out_energy, batch.y).detach().item()\n",
    "    loss_e_rot = energy_loss(out_energy_rot, batch.y).detach().item()\n",
    "    assert np.abs(loss_e - loss_e_rot) < 1e-6\n",
    "    \n",
    "    losses['force'].append(loss_f)\n",
    "    losses['force_rot'].append(loss_f_rot)\n",
    "\n",
    "    losses['energy'].append(loss_e)\n",
    "    losses['energy_rot'].append(loss_e_rot)\n",
    "    "
   ],
   "metadata": {
    "collapsed": false
   },
   "id": "44caf98cad690073",
   "execution_count": null
  },
  {
   "cell_type": "code",
   "outputs": [],
   "source": [
    "fig, (ax1, ax2) = plt.subplots(1, 2, figsize=(12,4))\n",
    "ax1.plot(losses['force'], '*', label = 'force',)\n",
    "ax1.plot(losses['force_rot'], '-', label = 'force_rotated')\n",
    "ax1.legend()\n",
    "ax1.grid()\n",
    "ax1.set_xlabel('train batch idx')\n",
    "ax1.set_ylabel('L2MAELoss')\n",
    "ax1.set_title('Before training force loss')\n",
    "ax2.plot(losses['energy'], '*', label = 'energy')\n",
    "ax2.plot(losses['energy_rot'], '-', label = 'energy_rot')\n",
    "ax2.legend()\n",
    "ax2.set_xlabel('train batch idx')\n",
    "ax2.set_ylabel('MSELoss')\n",
    "ax2.set_title('Before training energy loss')\n",
    "ax2.grid()\n",
    "\n",
    "plt.tight_layout()\n",
    "plt.savefig('equiv_inv.pdf')"
   ],
   "metadata": {
    "collapsed": false
   },
   "id": "d73e2f838cfe086f",
   "execution_count": null
  }
 ],
 "metadata": {
  "kernelspec": {
   "name": "sqllm",
   "language": "python",
   "display_name": "sqllm"
  },
  "language_info": {
   "codemirror_mode": {
    "name": "ipython",
    "version": 2
   },
   "file_extension": ".py",
   "mimetype": "text/x-python",
   "name": "python",
   "nbconvert_exporter": "python",
   "pygments_lexer": "ipython2",
   "version": "2.7.6"
  }
 },
 "nbformat": 4,
 "nbformat_minor": 5
}
